{
 "cells": [
  {
   "cell_type": "code",
   "execution_count": null,
   "metadata": {},
   "outputs": [],
   "source": [
    "tu = (23, 'abc', 4.56, (2,3), 'def')"
   ]
  },
  {
   "cell_type": "code",
   "execution_count": null,
   "metadata": {},
   "outputs": [],
   "source": [
    "li = [\"abc\", 34, 4.34, 23]"
   ]
  },
  {
   "cell_type": "code",
   "execution_count": null,
   "metadata": {},
   "outputs": [],
   "source": [
    "st = \"Hello World\"\n",
    "st = 'Hello World'\n",
    "st = \"\"\"This is a multi-line\n",
    "string that uses triple quotes.\"\"\""
   ]
  },
  {
   "cell_type": "code",
   "execution_count": null,
   "metadata": {},
   "outputs": [],
   "source": [
    "tu = (23, 'abc', 4.56, (2,3), 'def')\n",
    "tu[1] # Second item in the tuple."
   ]
  },
  {
   "cell_type": "code",
   "execution_count": null,
   "metadata": {},
   "outputs": [],
   "source": [
    "li = [\"abc\", 34, 4.34, 23]\n",
    "li[1] # Second item in the list."
   ]
  },
  {
   "cell_type": "code",
   "execution_count": null,
   "metadata": {},
   "outputs": [],
   "source": [
    "st = \"Hello World\"\n",
    "st[1] # Second character in string."
   ]
  },
  {
   "cell_type": "code",
   "execution_count": null,
   "metadata": {},
   "outputs": [],
   "source": [
    "t = (23, 'abc', 4.56, (2,3), 'def')"
   ]
  },
  {
   "cell_type": "code",
   "execution_count": null,
   "metadata": {},
   "outputs": [],
   "source": [
    "t[1]\n",
    "t[-3]\n",
    "t[1:4]\n",
    "t[1:-1]\n",
    "t[1:-1:2]\n",
    "t[:2]\n",
    "t[2:]\n",
    "t[:]\n",
    "list2 = list1\n",
    "list2 = list1[:]"
   ]
  },
  {
   "cell_type": "code",
   "execution_count": null,
   "metadata": {},
   "outputs": [],
   "source": [
    "t = [1, 2, 4, 5]\n",
    "3 in t\n",
    "4 in t\n",
    "4 not in t\n",
    "a = 'abcde'\n",
    "'c' in a\n",
    "'cd' in a\n",
    "'ac' in a"
   ]
  },
  {
   "cell_type": "code",
   "execution_count": null,
   "metadata": {},
   "outputs": [],
   "source": [
    "(1, 2, 3) + (4, 5, 6)\n",
    "[1, 2, 3] + [4, 5, 6]\n",
    "\"Hello\" + \"\" \"\" + \"World\""
   ]
  }
 ],
 "metadata": {
  "language_info": {
   "name": "python"
  }
 },
 "nbformat": 4,
 "nbformat_minor": 2
}
